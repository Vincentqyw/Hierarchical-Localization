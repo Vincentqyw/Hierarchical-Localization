{
 "cells": [
  {
   "cell_type": "code",
   "execution_count": 1,
   "metadata": {},
   "outputs": [],
   "source": [
    "%load_ext autoreload\n",
    "%autoreload 2\n",
    "\n",
    "from pathlib import Path\n",
    "from pprint import pformat\n",
    "import torch\n",
    "from hloc.matchers import topicfm\n",
    "from hloc import match_dense, matchers\n",
    "from hloc.utils.base_model import dynamic_load\n"
   ]
  },
  {
   "cell_type": "code",
   "execution_count": 2,
   "metadata": {},
   "outputs": [],
   "source": [
    "device = 'cuda' if torch.cuda.is_available() else 'cpu'\n",
    "# print(f'Running on {device}')"
   ]
  },
  {
   "cell_type": "code",
   "execution_count": 3,
   "metadata": {},
   "outputs": [
    {
     "name": "stdout",
     "output_type": "stream",
     "text": [
      "model config:  {'backbone_type': 'FPN', 'resolution': (8, 2), 'fine_window_size': 5, 'fine_concat_coarse_feat': False, 'fpn': {'initial_dim': 128, 'block_dims': [128, 192, 256, 384]}, 'coarse': {'d_model': 256, 'd_ffn': 256, 'nhead': 8, 'layer_names': ['seed', 'seed', 'seed', 'seed', 'seed'], 'attention': 'linear', 'temp_bug_fix': True, 'n_topics': 100, 'n_samples': 4, 'n_topic_transformers': 1}, 'match_coarse': {'thr': 0.2, 'border_rm': 2, 'match_type': 'dual_softmax', 'dsmax_temperature': 0.1, 'train_coarse_percent': 0.2, 'train_pad_num_gt_min': 200, 'sparse_spvs': True}, 'fine': {'d_model': 128, 'd_ffn': 128, 'nhead': 4, 'layer_names': ['cross'], 'attention': 'linear', 'n_topics': 1}, 'loss': {'coarse_weight': 1.0, 'focal_alpha': 0.25, 'pos_weight': 1.0, 'neg_weight': 1.0, 'fine_type': 'l2_with_std', 'fine_weight': 1.0, 'fine_correct_thr': 1.0}}\n"
     ]
    }
   ],
   "source": [
    "match_conf = match_dense.confs['topicfm']\n",
    "\n",
    "Model = dynamic_load(matchers, match_conf['model']['name'])\n",
    "model = Model(match_conf['model']).eval().to(device)\n"
   ]
  },
  {
   "cell_type": "code",
   "execution_count": 4,
   "metadata": {},
   "outputs": [
    {
     "name": "stderr",
     "output_type": "stream",
     "text": [
      "/home/codespace/.local/lib/python3.10/site-packages/torchvision/transforms/functional.py:1603: UserWarning: The default value of the antialias parameter of all the resizing transforms (Resize(), RandomResizedCrop(), etc.) will change from None to True in v0.17, in order to be consistent across the PIL and Tensor backends. To suppress this warning, directly pass antialias=True (recommended, future default), antialias=None (current default, which means False for Tensors and True for PIL), or antialias=False (only works on Tensors - PIL will still use antialiasing). This also applies if you are using the inference transforms from the models weights: update the call to weights.transforms(antialias=True).\n",
      "  warnings.warn(\n"
     ]
    },
    {
     "ename": "",
     "evalue": "",
     "output_type": "error",
     "traceback": [
      "\u001b[1;31mCanceled future for execute_request message before replies were done"
     ]
    },
    {
     "ename": "",
     "evalue": "",
     "output_type": "error",
     "traceback": [
      "\u001b[1;31mThe Kernel crashed while executing code in the the current cell or a previous cell. Please review the code in the cell(s) to identify a possible cause of the failure. Click <a href='https://aka.ms/vscodeJupyterKernelCrash'>here</a> for more info. View Jupyter <a href='command:jupyter.viewOutput'>log</a> for further details."
     ]
    }
   ],
   "source": [
    "path_image0 = Path('datasets/sacre_coeur/mapping/71295362_4051449754.jpg')\n",
    "path_image1 = Path('datasets/sacre_coeur/mapping/93341989_396310999.jpg')\n",
    "pred = match_dense.match(model, path_image0, path_image1, match_conf['preprocessing'])"
   ]
  }
 ],
 "metadata": {
  "kernelspec": {
   "display_name": "Python 3 (ipykernel)",
   "language": "python",
   "name": "python3"
  },
  "language_info": {
   "codemirror_mode": {
    "name": "ipython",
    "version": 3
   },
   "file_extension": ".py",
   "mimetype": "text/x-python",
   "name": "python",
   "nbconvert_exporter": "python",
   "pygments_lexer": "ipython3",
   "version": "3.10.4"
  }
 },
 "nbformat": 4,
 "nbformat_minor": 4
}
